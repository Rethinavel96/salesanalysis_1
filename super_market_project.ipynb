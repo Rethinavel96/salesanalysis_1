{
 "cells": [
  {
   "cell_type": "code",
   "execution_count": 2,
   "id": "688ef920",
   "metadata": {},
   "outputs": [],
   "source": [
    "import pandas as pd\n",
    "import numpy as np\n",
    "import matplotlib.pyplot as plt\n",
    "import seaborn as sns"
   ]
  },
  {
   "cell_type": "code",
   "execution_count": 3,
   "id": "ade68d6b",
   "metadata": {},
   "outputs": [],
   "source": [
    "#importing Dataset\n",
    "df=pd.read_csv('supermarket.csv')"
   ]
  },
  {
   "cell_type": "code",
   "execution_count": 4,
   "id": "4879ee32",
   "metadata": {},
   "outputs": [
    {
     "data": {
      "text/html": [
       "<div>\n",
       "<style scoped>\n",
       "    .dataframe tbody tr th:only-of-type {\n",
       "        vertical-align: middle;\n",
       "    }\n",
       "\n",
       "    .dataframe tbody tr th {\n",
       "        vertical-align: top;\n",
       "    }\n",
       "\n",
       "    .dataframe thead th {\n",
       "        text-align: right;\n",
       "    }\n",
       "</style>\n",
       "<table border=\"1\" class=\"dataframe\">\n",
       "  <thead>\n",
       "    <tr style=\"text-align: right;\">\n",
       "      <th></th>\n",
       "      <th>Order ID</th>\n",
       "      <th>Customer Name</th>\n",
       "      <th>Category</th>\n",
       "      <th>Sub Category</th>\n",
       "      <th>City</th>\n",
       "      <th>Order Date</th>\n",
       "      <th>Region</th>\n",
       "      <th>Sales</th>\n",
       "      <th>Discount</th>\n",
       "      <th>Profit</th>\n",
       "      <th>State</th>\n",
       "    </tr>\n",
       "  </thead>\n",
       "  <tbody>\n",
       "    <tr>\n",
       "      <th>0</th>\n",
       "      <td>OD9</td>\n",
       "      <td>Hafiz</td>\n",
       "      <td>Bakery</td>\n",
       "      <td>Biscuits</td>\n",
       "      <td>Tirunelveli</td>\n",
       "      <td>6/9/2015</td>\n",
       "      <td>West</td>\n",
       "      <td>791</td>\n",
       "      <td>0.23</td>\n",
       "      <td>181.93</td>\n",
       "      <td>Tamil Nadu</td>\n",
       "    </tr>\n",
       "    <tr>\n",
       "      <th>1</th>\n",
       "      <td>OD28</td>\n",
       "      <td>Jackson</td>\n",
       "      <td>Bakery</td>\n",
       "      <td>Biscuits</td>\n",
       "      <td>Viluppuram</td>\n",
       "      <td>9/17/2016</td>\n",
       "      <td>East</td>\n",
       "      <td>979</td>\n",
       "      <td>0.22</td>\n",
       "      <td>401.39</td>\n",
       "      <td>Tamil Nadu</td>\n",
       "    </tr>\n",
       "    <tr>\n",
       "      <th>2</th>\n",
       "      <td>OD45</td>\n",
       "      <td>Amrish</td>\n",
       "      <td>Bakery</td>\n",
       "      <td>Biscuits</td>\n",
       "      <td>Krishnagiri</td>\n",
       "      <td>3/11/2017</td>\n",
       "      <td>Central</td>\n",
       "      <td>1663</td>\n",
       "      <td>0.17</td>\n",
       "      <td>731.72</td>\n",
       "      <td>Tamil Nadu</td>\n",
       "    </tr>\n",
       "    <tr>\n",
       "      <th>3</th>\n",
       "      <td>OD141</td>\n",
       "      <td>Veena</td>\n",
       "      <td>Bakery</td>\n",
       "      <td>Biscuits</td>\n",
       "      <td>Perambalur</td>\n",
       "      <td>9/5/2017</td>\n",
       "      <td>East</td>\n",
       "      <td>866</td>\n",
       "      <td>0.32</td>\n",
       "      <td>381.04</td>\n",
       "      <td>Tamil Nadu</td>\n",
       "    </tr>\n",
       "    <tr>\n",
       "      <th>4</th>\n",
       "      <td>OD245</td>\n",
       "      <td>Roshan</td>\n",
       "      <td>Bakery</td>\n",
       "      <td>Biscuits</td>\n",
       "      <td>Coimbatore</td>\n",
       "      <td>6/1/2015</td>\n",
       "      <td>Central</td>\n",
       "      <td>817</td>\n",
       "      <td>0.15</td>\n",
       "      <td>326.80</td>\n",
       "      <td>Tamil Nadu</td>\n",
       "    </tr>\n",
       "  </tbody>\n",
       "</table>\n",
       "</div>"
      ],
      "text/plain": [
       "  Order ID Customer Name Category Sub Category         City Order Date  \\\n",
       "0      OD9         Hafiz   Bakery     Biscuits  Tirunelveli   6/9/2015   \n",
       "1     OD28       Jackson   Bakery     Biscuits   Viluppuram  9/17/2016   \n",
       "2     OD45        Amrish   Bakery     Biscuits  Krishnagiri  3/11/2017   \n",
       "3    OD141         Veena   Bakery     Biscuits   Perambalur   9/5/2017   \n",
       "4    OD245        Roshan   Bakery     Biscuits   Coimbatore   6/1/2015   \n",
       "\n",
       "    Region  Sales  Discount  Profit       State  \n",
       "0     West    791      0.23  181.93  Tamil Nadu  \n",
       "1     East    979      0.22  401.39  Tamil Nadu  \n",
       "2  Central   1663      0.17  731.72  Tamil Nadu  \n",
       "3     East    866      0.32  381.04  Tamil Nadu  \n",
       "4  Central    817      0.15  326.80  Tamil Nadu  "
      ]
     },
     "execution_count": 4,
     "metadata": {},
     "output_type": "execute_result"
    }
   ],
   "source": [
    "df.head()"
   ]
  },
  {
   "cell_type": "code",
   "execution_count": 5,
   "id": "4e054f36",
   "metadata": {},
   "outputs": [
    {
     "data": {
      "text/html": [
       "<div>\n",
       "<style scoped>\n",
       "    .dataframe tbody tr th:only-of-type {\n",
       "        vertical-align: middle;\n",
       "    }\n",
       "\n",
       "    .dataframe tbody tr th {\n",
       "        vertical-align: top;\n",
       "    }\n",
       "\n",
       "    .dataframe thead th {\n",
       "        text-align: right;\n",
       "    }\n",
       "</style>\n",
       "<table border=\"1\" class=\"dataframe\">\n",
       "  <thead>\n",
       "    <tr style=\"text-align: right;\">\n",
       "      <th></th>\n",
       "      <th>Order ID</th>\n",
       "      <th>Customer Name</th>\n",
       "      <th>Category</th>\n",
       "      <th>Sub Category</th>\n",
       "      <th>City</th>\n",
       "      <th>Order Date</th>\n",
       "      <th>Region</th>\n",
       "      <th>Sales</th>\n",
       "      <th>Discount</th>\n",
       "      <th>Profit</th>\n",
       "      <th>State</th>\n",
       "    </tr>\n",
       "  </thead>\n",
       "  <tbody>\n",
       "    <tr>\n",
       "      <th>9989</th>\n",
       "      <td>OD9907</td>\n",
       "      <td>Adavan</td>\n",
       "      <td>Snacks</td>\n",
       "      <td>Noodles</td>\n",
       "      <td>Salem</td>\n",
       "      <td>3/11/2018</td>\n",
       "      <td>East</td>\n",
       "      <td>2087</td>\n",
       "      <td>0.13</td>\n",
       "      <td>313.05</td>\n",
       "      <td>Tamil Nadu</td>\n",
       "    </tr>\n",
       "    <tr>\n",
       "      <th>9990</th>\n",
       "      <td>OD9936</td>\n",
       "      <td>Anu</td>\n",
       "      <td>Snacks</td>\n",
       "      <td>Noodles</td>\n",
       "      <td>Namakkal</td>\n",
       "      <td>10/24/2017</td>\n",
       "      <td>South</td>\n",
       "      <td>1411</td>\n",
       "      <td>0.16</td>\n",
       "      <td>395.08</td>\n",
       "      <td>Tamil Nadu</td>\n",
       "    </tr>\n",
       "    <tr>\n",
       "      <th>9991</th>\n",
       "      <td>OD9948</td>\n",
       "      <td>Hafiz</td>\n",
       "      <td>Snacks</td>\n",
       "      <td>Noodles</td>\n",
       "      <td>Perambalur</td>\n",
       "      <td>11/3/2016</td>\n",
       "      <td>West</td>\n",
       "      <td>2053</td>\n",
       "      <td>0.13</td>\n",
       "      <td>882.79</td>\n",
       "      <td>Tamil Nadu</td>\n",
       "    </tr>\n",
       "    <tr>\n",
       "      <th>9992</th>\n",
       "      <td>OD9969</td>\n",
       "      <td>Hafiz</td>\n",
       "      <td>Snacks</td>\n",
       "      <td>Noodles</td>\n",
       "      <td>Chennai</td>\n",
       "      <td>3/6/2018</td>\n",
       "      <td>West</td>\n",
       "      <td>1981</td>\n",
       "      <td>0.23</td>\n",
       "      <td>614.11</td>\n",
       "      <td>Tamil Nadu</td>\n",
       "    </tr>\n",
       "    <tr>\n",
       "      <th>9993</th>\n",
       "      <td>OD9972</td>\n",
       "      <td>Ridhesh</td>\n",
       "      <td>Snacks</td>\n",
       "      <td>Noodles</td>\n",
       "      <td>Perambalur</td>\n",
       "      <td>10/2/2018</td>\n",
       "      <td>West</td>\n",
       "      <td>940</td>\n",
       "      <td>0.22</td>\n",
       "      <td>253.80</td>\n",
       "      <td>Tamil Nadu</td>\n",
       "    </tr>\n",
       "  </tbody>\n",
       "</table>\n",
       "</div>"
      ],
      "text/plain": [
       "     Order ID Customer Name Category Sub Category        City  Order Date  \\\n",
       "9989   OD9907        Adavan   Snacks      Noodles       Salem   3/11/2018   \n",
       "9990   OD9936           Anu   Snacks      Noodles    Namakkal  10/24/2017   \n",
       "9991   OD9948         Hafiz   Snacks      Noodles  Perambalur   11/3/2016   \n",
       "9992   OD9969         Hafiz   Snacks      Noodles     Chennai    3/6/2018   \n",
       "9993   OD9972       Ridhesh   Snacks      Noodles  Perambalur   10/2/2018   \n",
       "\n",
       "     Region  Sales  Discount  Profit       State  \n",
       "9989   East   2087      0.13  313.05  Tamil Nadu  \n",
       "9990  South   1411      0.16  395.08  Tamil Nadu  \n",
       "9991   West   2053      0.13  882.79  Tamil Nadu  \n",
       "9992   West   1981      0.23  614.11  Tamil Nadu  \n",
       "9993   West    940      0.22  253.80  Tamil Nadu  "
      ]
     },
     "execution_count": 5,
     "metadata": {},
     "output_type": "execute_result"
    }
   ],
   "source": [
    "df.tail()"
   ]
  },
  {
   "cell_type": "code",
   "execution_count": 6,
   "id": "0526014c",
   "metadata": {},
   "outputs": [
    {
     "name": "stdout",
     "output_type": "stream",
     "text": [
      "<class 'pandas.core.frame.DataFrame'>\n",
      "RangeIndex: 9994 entries, 0 to 9993\n",
      "Data columns (total 11 columns):\n",
      " #   Column         Non-Null Count  Dtype  \n",
      "---  ------         --------------  -----  \n",
      " 0   Order ID       9994 non-null   object \n",
      " 1   Customer Name  9994 non-null   object \n",
      " 2   Category       9994 non-null   object \n",
      " 3   Sub Category   9994 non-null   object \n",
      " 4   City           9994 non-null   object \n",
      " 5   Order Date     9994 non-null   object \n",
      " 6   Region         9994 non-null   object \n",
      " 7   Sales          9994 non-null   int64  \n",
      " 8   Discount       9994 non-null   float64\n",
      " 9   Profit         9994 non-null   float64\n",
      " 10  State          9994 non-null   object \n",
      "dtypes: float64(2), int64(1), object(8)\n",
      "memory usage: 859.0+ KB\n"
     ]
    }
   ],
   "source": [
    "df.info()"
   ]
  },
  {
   "cell_type": "code",
   "execution_count": 7,
   "id": "5a8daa23",
   "metadata": {},
   "outputs": [
    {
     "data": {
      "text/plain": [
       "Order ID         0\n",
       "Customer Name    0\n",
       "Category         0\n",
       "Sub Category     0\n",
       "City             0\n",
       "Order Date       0\n",
       "Region           0\n",
       "Sales            0\n",
       "Discount         0\n",
       "Profit           0\n",
       "State            0\n",
       "dtype: int64"
      ]
     },
     "execution_count": 7,
     "metadata": {},
     "output_type": "execute_result"
    }
   ],
   "source": [
    "#There is no null values in our dataset\n",
    "df.isnull().sum()"
   ]
  },
  {
   "cell_type": "code",
   "execution_count": 8,
   "id": "b564ab71",
   "metadata": {},
   "outputs": [
    {
     "data": {
      "text/html": [
       "<div>\n",
       "<style scoped>\n",
       "    .dataframe tbody tr th:only-of-type {\n",
       "        vertical-align: middle;\n",
       "    }\n",
       "\n",
       "    .dataframe tbody tr th {\n",
       "        vertical-align: top;\n",
       "    }\n",
       "\n",
       "    .dataframe thead th {\n",
       "        text-align: right;\n",
       "    }\n",
       "</style>\n",
       "<table border=\"1\" class=\"dataframe\">\n",
       "  <thead>\n",
       "    <tr style=\"text-align: right;\">\n",
       "      <th></th>\n",
       "      <th>Sales</th>\n",
       "      <th>Discount</th>\n",
       "      <th>Profit</th>\n",
       "    </tr>\n",
       "  </thead>\n",
       "  <tbody>\n",
       "    <tr>\n",
       "      <th>count</th>\n",
       "      <td>9994.000000</td>\n",
       "      <td>9994.000000</td>\n",
       "      <td>9994.000000</td>\n",
       "    </tr>\n",
       "    <tr>\n",
       "      <th>mean</th>\n",
       "      <td>1496.596158</td>\n",
       "      <td>0.226817</td>\n",
       "      <td>374.937082</td>\n",
       "    </tr>\n",
       "    <tr>\n",
       "      <th>std</th>\n",
       "      <td>577.559036</td>\n",
       "      <td>0.074636</td>\n",
       "      <td>239.932881</td>\n",
       "    </tr>\n",
       "    <tr>\n",
       "      <th>min</th>\n",
       "      <td>500.000000</td>\n",
       "      <td>0.100000</td>\n",
       "      <td>25.250000</td>\n",
       "    </tr>\n",
       "    <tr>\n",
       "      <th>25%</th>\n",
       "      <td>1000.000000</td>\n",
       "      <td>0.160000</td>\n",
       "      <td>180.022500</td>\n",
       "    </tr>\n",
       "    <tr>\n",
       "      <th>50%</th>\n",
       "      <td>1498.000000</td>\n",
       "      <td>0.230000</td>\n",
       "      <td>320.780000</td>\n",
       "    </tr>\n",
       "    <tr>\n",
       "      <th>75%</th>\n",
       "      <td>1994.750000</td>\n",
       "      <td>0.290000</td>\n",
       "      <td>525.627500</td>\n",
       "    </tr>\n",
       "    <tr>\n",
       "      <th>max</th>\n",
       "      <td>2500.000000</td>\n",
       "      <td>0.350000</td>\n",
       "      <td>1120.950000</td>\n",
       "    </tr>\n",
       "  </tbody>\n",
       "</table>\n",
       "</div>"
      ],
      "text/plain": [
       "             Sales     Discount       Profit\n",
       "count  9994.000000  9994.000000  9994.000000\n",
       "mean   1496.596158     0.226817   374.937082\n",
       "std     577.559036     0.074636   239.932881\n",
       "min     500.000000     0.100000    25.250000\n",
       "25%    1000.000000     0.160000   180.022500\n",
       "50%    1498.000000     0.230000   320.780000\n",
       "75%    1994.750000     0.290000   525.627500\n",
       "max    2500.000000     0.350000  1120.950000"
      ]
     },
     "execution_count": 8,
     "metadata": {},
     "output_type": "execute_result"
    }
   ],
   "source": [
    "df.describe()"
   ]
  },
  {
   "cell_type": "code",
   "execution_count": 11,
   "id": "db834c29",
   "metadata": {},
   "outputs": [],
   "source": [
    "df['Order Date']=pd.to_datetime(df['Order Date'])"
   ]
  },
  {
   "cell_type": "code",
   "execution_count": 15,
   "id": "3b684323",
   "metadata": {},
   "outputs": [],
   "source": [
    "df['month']=df['Order Date'].dt.month"
   ]
  },
  {
   "cell_type": "code",
   "execution_count": 16,
   "id": "ac829899",
   "metadata": {},
   "outputs": [],
   "source": [
    "df['year']=df['Order Date'].dt.year"
   ]
  },
  {
   "cell_type": "code",
   "execution_count": 17,
   "id": "ed916498",
   "metadata": {},
   "outputs": [
    {
     "data": {
      "text/html": [
       "<div>\n",
       "<style scoped>\n",
       "    .dataframe tbody tr th:only-of-type {\n",
       "        vertical-align: middle;\n",
       "    }\n",
       "\n",
       "    .dataframe tbody tr th {\n",
       "        vertical-align: top;\n",
       "    }\n",
       "\n",
       "    .dataframe thead th {\n",
       "        text-align: right;\n",
       "    }\n",
       "</style>\n",
       "<table border=\"1\" class=\"dataframe\">\n",
       "  <thead>\n",
       "    <tr style=\"text-align: right;\">\n",
       "      <th></th>\n",
       "      <th>Order ID</th>\n",
       "      <th>Customer Name</th>\n",
       "      <th>Category</th>\n",
       "      <th>Sub Category</th>\n",
       "      <th>City</th>\n",
       "      <th>Order Date</th>\n",
       "      <th>Region</th>\n",
       "      <th>Sales</th>\n",
       "      <th>Discount</th>\n",
       "      <th>Profit</th>\n",
       "      <th>State</th>\n",
       "      <th>month</th>\n",
       "      <th>year</th>\n",
       "    </tr>\n",
       "  </thead>\n",
       "  <tbody>\n",
       "    <tr>\n",
       "      <th>0</th>\n",
       "      <td>OD9</td>\n",
       "      <td>Hafiz</td>\n",
       "      <td>Bakery</td>\n",
       "      <td>Biscuits</td>\n",
       "      <td>Tirunelveli</td>\n",
       "      <td>2015-06-09</td>\n",
       "      <td>West</td>\n",
       "      <td>791</td>\n",
       "      <td>0.23</td>\n",
       "      <td>181.93</td>\n",
       "      <td>Tamil Nadu</td>\n",
       "      <td>6</td>\n",
       "      <td>2015</td>\n",
       "    </tr>\n",
       "    <tr>\n",
       "      <th>1</th>\n",
       "      <td>OD28</td>\n",
       "      <td>Jackson</td>\n",
       "      <td>Bakery</td>\n",
       "      <td>Biscuits</td>\n",
       "      <td>Viluppuram</td>\n",
       "      <td>2016-09-17</td>\n",
       "      <td>East</td>\n",
       "      <td>979</td>\n",
       "      <td>0.22</td>\n",
       "      <td>401.39</td>\n",
       "      <td>Tamil Nadu</td>\n",
       "      <td>9</td>\n",
       "      <td>2016</td>\n",
       "    </tr>\n",
       "    <tr>\n",
       "      <th>2</th>\n",
       "      <td>OD45</td>\n",
       "      <td>Amrish</td>\n",
       "      <td>Bakery</td>\n",
       "      <td>Biscuits</td>\n",
       "      <td>Krishnagiri</td>\n",
       "      <td>2017-03-11</td>\n",
       "      <td>Central</td>\n",
       "      <td>1663</td>\n",
       "      <td>0.17</td>\n",
       "      <td>731.72</td>\n",
       "      <td>Tamil Nadu</td>\n",
       "      <td>3</td>\n",
       "      <td>2017</td>\n",
       "    </tr>\n",
       "    <tr>\n",
       "      <th>3</th>\n",
       "      <td>OD141</td>\n",
       "      <td>Veena</td>\n",
       "      <td>Bakery</td>\n",
       "      <td>Biscuits</td>\n",
       "      <td>Perambalur</td>\n",
       "      <td>2017-09-05</td>\n",
       "      <td>East</td>\n",
       "      <td>866</td>\n",
       "      <td>0.32</td>\n",
       "      <td>381.04</td>\n",
       "      <td>Tamil Nadu</td>\n",
       "      <td>9</td>\n",
       "      <td>2017</td>\n",
       "    </tr>\n",
       "    <tr>\n",
       "      <th>4</th>\n",
       "      <td>OD245</td>\n",
       "      <td>Roshan</td>\n",
       "      <td>Bakery</td>\n",
       "      <td>Biscuits</td>\n",
       "      <td>Coimbatore</td>\n",
       "      <td>2015-06-01</td>\n",
       "      <td>Central</td>\n",
       "      <td>817</td>\n",
       "      <td>0.15</td>\n",
       "      <td>326.80</td>\n",
       "      <td>Tamil Nadu</td>\n",
       "      <td>6</td>\n",
       "      <td>2015</td>\n",
       "    </tr>\n",
       "  </tbody>\n",
       "</table>\n",
       "</div>"
      ],
      "text/plain": [
       "  Order ID Customer Name Category Sub Category         City Order Date  \\\n",
       "0      OD9         Hafiz   Bakery     Biscuits  Tirunelveli 2015-06-09   \n",
       "1     OD28       Jackson   Bakery     Biscuits   Viluppuram 2016-09-17   \n",
       "2     OD45        Amrish   Bakery     Biscuits  Krishnagiri 2017-03-11   \n",
       "3    OD141         Veena   Bakery     Biscuits   Perambalur 2017-09-05   \n",
       "4    OD245        Roshan   Bakery     Biscuits   Coimbatore 2015-06-01   \n",
       "\n",
       "    Region  Sales  Discount  Profit       State  month  year  \n",
       "0     West    791      0.23  181.93  Tamil Nadu      6  2015  \n",
       "1     East    979      0.22  401.39  Tamil Nadu      9  2016  \n",
       "2  Central   1663      0.17  731.72  Tamil Nadu      3  2017  \n",
       "3     East    866      0.32  381.04  Tamil Nadu      9  2017  \n",
       "4  Central    817      0.15  326.80  Tamil Nadu      6  2015  "
      ]
     },
     "execution_count": 17,
     "metadata": {},
     "output_type": "execute_result"
    }
   ],
   "source": [
    "df.head()"
   ]
  },
  {
   "cell_type": "code",
   "execution_count": 41,
   "id": "64124ebc",
   "metadata": {},
   "outputs": [],
   "source": [
    "df['month_year']=df['Order Date'].apply(lambda x:x.strftime('%y -%m'))"
   ]
  },
  {
   "cell_type": "code",
   "execution_count": 42,
   "id": "584969d7",
   "metadata": {},
   "outputs": [
    {
     "data": {
      "text/html": [
       "<div>\n",
       "<style scoped>\n",
       "    .dataframe tbody tr th:only-of-type {\n",
       "        vertical-align: middle;\n",
       "    }\n",
       "\n",
       "    .dataframe tbody tr th {\n",
       "        vertical-align: top;\n",
       "    }\n",
       "\n",
       "    .dataframe thead th {\n",
       "        text-align: right;\n",
       "    }\n",
       "</style>\n",
       "<table border=\"1\" class=\"dataframe\">\n",
       "  <thead>\n",
       "    <tr style=\"text-align: right;\">\n",
       "      <th></th>\n",
       "      <th>Order ID</th>\n",
       "      <th>Customer Name</th>\n",
       "      <th>Category</th>\n",
       "      <th>Sub Category</th>\n",
       "      <th>City</th>\n",
       "      <th>Order Date</th>\n",
       "      <th>Region</th>\n",
       "      <th>Sales</th>\n",
       "      <th>Discount</th>\n",
       "      <th>Profit</th>\n",
       "      <th>State</th>\n",
       "      <th>month</th>\n",
       "      <th>year</th>\n",
       "      <th>month_year</th>\n",
       "    </tr>\n",
       "  </thead>\n",
       "  <tbody>\n",
       "    <tr>\n",
       "      <th>0</th>\n",
       "      <td>OD9</td>\n",
       "      <td>Hafiz</td>\n",
       "      <td>Bakery</td>\n",
       "      <td>Biscuits</td>\n",
       "      <td>Tirunelveli</td>\n",
       "      <td>2015-06-09</td>\n",
       "      <td>West</td>\n",
       "      <td>791</td>\n",
       "      <td>0.23</td>\n",
       "      <td>181.93</td>\n",
       "      <td>Tamil Nadu</td>\n",
       "      <td>6</td>\n",
       "      <td>2015</td>\n",
       "      <td>15 -06</td>\n",
       "    </tr>\n",
       "    <tr>\n",
       "      <th>1</th>\n",
       "      <td>OD28</td>\n",
       "      <td>Jackson</td>\n",
       "      <td>Bakery</td>\n",
       "      <td>Biscuits</td>\n",
       "      <td>Viluppuram</td>\n",
       "      <td>2016-09-17</td>\n",
       "      <td>East</td>\n",
       "      <td>979</td>\n",
       "      <td>0.22</td>\n",
       "      <td>401.39</td>\n",
       "      <td>Tamil Nadu</td>\n",
       "      <td>9</td>\n",
       "      <td>2016</td>\n",
       "      <td>16 -09</td>\n",
       "    </tr>\n",
       "    <tr>\n",
       "      <th>2</th>\n",
       "      <td>OD45</td>\n",
       "      <td>Amrish</td>\n",
       "      <td>Bakery</td>\n",
       "      <td>Biscuits</td>\n",
       "      <td>Krishnagiri</td>\n",
       "      <td>2017-03-11</td>\n",
       "      <td>Central</td>\n",
       "      <td>1663</td>\n",
       "      <td>0.17</td>\n",
       "      <td>731.72</td>\n",
       "      <td>Tamil Nadu</td>\n",
       "      <td>3</td>\n",
       "      <td>2017</td>\n",
       "      <td>17 -03</td>\n",
       "    </tr>\n",
       "    <tr>\n",
       "      <th>3</th>\n",
       "      <td>OD141</td>\n",
       "      <td>Veena</td>\n",
       "      <td>Bakery</td>\n",
       "      <td>Biscuits</td>\n",
       "      <td>Perambalur</td>\n",
       "      <td>2017-09-05</td>\n",
       "      <td>East</td>\n",
       "      <td>866</td>\n",
       "      <td>0.32</td>\n",
       "      <td>381.04</td>\n",
       "      <td>Tamil Nadu</td>\n",
       "      <td>9</td>\n",
       "      <td>2017</td>\n",
       "      <td>17 -09</td>\n",
       "    </tr>\n",
       "    <tr>\n",
       "      <th>4</th>\n",
       "      <td>OD245</td>\n",
       "      <td>Roshan</td>\n",
       "      <td>Bakery</td>\n",
       "      <td>Biscuits</td>\n",
       "      <td>Coimbatore</td>\n",
       "      <td>2015-06-01</td>\n",
       "      <td>Central</td>\n",
       "      <td>817</td>\n",
       "      <td>0.15</td>\n",
       "      <td>326.80</td>\n",
       "      <td>Tamil Nadu</td>\n",
       "      <td>6</td>\n",
       "      <td>2015</td>\n",
       "      <td>15 -06</td>\n",
       "    </tr>\n",
       "  </tbody>\n",
       "</table>\n",
       "</div>"
      ],
      "text/plain": [
       "  Order ID Customer Name Category Sub Category         City Order Date  \\\n",
       "0      OD9         Hafiz   Bakery     Biscuits  Tirunelveli 2015-06-09   \n",
       "1     OD28       Jackson   Bakery     Biscuits   Viluppuram 2016-09-17   \n",
       "2     OD45        Amrish   Bakery     Biscuits  Krishnagiri 2017-03-11   \n",
       "3    OD141         Veena   Bakery     Biscuits   Perambalur 2017-09-05   \n",
       "4    OD245        Roshan   Bakery     Biscuits   Coimbatore 2015-06-01   \n",
       "\n",
       "    Region  Sales  Discount  Profit       State  month  year month_year  \n",
       "0     West    791      0.23  181.93  Tamil Nadu      6  2015     15 -06  \n",
       "1     East    979      0.22  401.39  Tamil Nadu      9  2016     16 -09  \n",
       "2  Central   1663      0.17  731.72  Tamil Nadu      3  2017     17 -03  \n",
       "3     East    866      0.32  381.04  Tamil Nadu      9  2017     17 -09  \n",
       "4  Central    817      0.15  326.80  Tamil Nadu      6  2015     15 -06  "
      ]
     },
     "execution_count": 42,
     "metadata": {},
     "output_type": "execute_result"
    }
   ],
   "source": [
    "df.head()"
   ]
  },
  {
   "cell_type": "code",
   "execution_count": 50,
   "id": "69d0ffb5",
   "metadata": {},
   "outputs": [],
   "source": [
    "month_year_sales=df.groupby('month_year').sum()['Sales']"
   ]
  },
  {
   "cell_type": "code",
   "execution_count": 55,
   "id": "e505f5df",
   "metadata": {},
   "outputs": [],
   "source": [
    "month_year_sales=month_year_sales.reset_index()"
   ]
  },
  {
   "cell_type": "code",
   "execution_count": 64,
   "id": "874ce53b",
   "metadata": {},
   "outputs": [
    {
     "data": {
      "image/png": "[encoded data removed]",
      "text/plain": [
       "<Figure size 1296x432 with 1 Axes>"
      ]
     },
     "metadata": {
      "needs_background": "light"
     },
     "output_type": "display_data"
    }
   ],
   "source": [
    "plt.figure(figsize=(18,6))\n",
    "sns.lineplot(data=month_year_sales,x='month_year',y='Sales',color='blue')\n",
    "plt.xticks(rotation=90)\n",
    "plt.show()"
   ]
  },
  {
   "cell_type": "markdown",
   "id": "00bf1855",
   "metadata": {},
   "source": [
    "                                             Overall sales trend month and year wise"
   ]
  },
  {
   "cell_type": "code",
   "execution_count": 72,
   "id": "d087a127",
   "metadata": {},
   "outputs": [],
   "source": [
    "selling_products=df.groupby(['Category','Sub Category']).sum()['Sales'].reset_index().sort_values('Sales')"
   ]
  },
  {
   "cell_type": "code",
   "execution_count": 73,
   "id": "f27bdc47",
   "metadata": {},
   "outputs": [
    {
     "data": {
      "text/html": [
       "<div>\n",
       "<style scoped>\n",
       "    .dataframe tbody tr th:only-of-type {\n",
       "        vertical-align: middle;\n",
       "    }\n",
       "\n",
       "    .dataframe tbody tr th {\n",
       "        vertical-align: top;\n",
       "    }\n",
       "\n",
       "    .dataframe thead th {\n",
       "        text-align: right;\n",
       "    }\n",
       "</style>\n",
       "<table border=\"1\" class=\"dataframe\">\n",
       "  <thead>\n",
       "    <tr style=\"text-align: right;\">\n",
       "      <th></th>\n",
       "      <th>Category</th>\n",
       "      <th>Sub Category</th>\n",
       "      <th>Sales</th>\n",
       "    </tr>\n",
       "  </thead>\n",
       "  <tbody>\n",
       "    <tr>\n",
       "      <th>12</th>\n",
       "      <td>Food Grains</td>\n",
       "      <td>Rice</td>\n",
       "      <td>498323</td>\n",
       "    </tr>\n",
       "    <tr>\n",
       "      <th>15</th>\n",
       "      <td>Fruits &amp; Veggies</td>\n",
       "      <td>Organic Fruits</td>\n",
       "      <td>503402</td>\n",
       "    </tr>\n",
       "    <tr>\n",
       "      <th>16</th>\n",
       "      <td>Fruits &amp; Veggies</td>\n",
       "      <td>Organic Vegetables</td>\n",
       "      <td>520271</td>\n",
       "    </tr>\n",
       "    <tr>\n",
       "      <th>5</th>\n",
       "      <td>Eggs, Meat &amp; Fish</td>\n",
       "      <td>Chicken</td>\n",
       "      <td>520497</td>\n",
       "    </tr>\n",
       "    <tr>\n",
       "      <th>10</th>\n",
       "      <td>Food Grains</td>\n",
       "      <td>Dals &amp; Pulses</td>\n",
       "      <td>523371</td>\n",
       "    </tr>\n",
       "    <tr>\n",
       "      <th>14</th>\n",
       "      <td>Fruits &amp; Veggies</td>\n",
       "      <td>Fresh Vegetables</td>\n",
       "      <td>525842</td>\n",
       "    </tr>\n",
       "    <tr>\n",
       "      <th>9</th>\n",
       "      <td>Food Grains</td>\n",
       "      <td>Atta &amp; Flour</td>\n",
       "      <td>534649</td>\n",
       "    </tr>\n",
       "    <tr>\n",
       "      <th>13</th>\n",
       "      <td>Fruits &amp; Veggies</td>\n",
       "      <td>Fresh Fruits</td>\n",
       "      <td>551212</td>\n",
       "    </tr>\n",
       "    <tr>\n",
       "      <th>11</th>\n",
       "      <td>Food Grains</td>\n",
       "      <td>Organic Staples</td>\n",
       "      <td>558929</td>\n",
       "    </tr>\n",
       "    <tr>\n",
       "      <th>7</th>\n",
       "      <td>Eggs, Meat &amp; Fish</td>\n",
       "      <td>Fish</td>\n",
       "      <td>560548</td>\n",
       "    </tr>\n",
       "  </tbody>\n",
       "</table>\n",
       "</div>"
      ],
      "text/plain": [
       "             Category        Sub Category   Sales\n",
       "12        Food Grains                Rice  498323\n",
       "15   Fruits & Veggies      Organic Fruits  503402\n",
       "16   Fruits & Veggies  Organic Vegetables  520271\n",
       "5   Eggs, Meat & Fish             Chicken  520497\n",
       "10        Food Grains       Dals & Pulses  523371\n",
       "14   Fruits & Veggies    Fresh Vegetables  525842\n",
       "9         Food Grains        Atta & Flour  534649\n",
       "13   Fruits & Veggies        Fresh Fruits  551212\n",
       "11        Food Grains     Organic Staples  558929\n",
       "7   Eggs, Meat & Fish                Fish  560548"
      ]
     },
     "execution_count": 73,
     "metadata": {},
     "output_type": "execute_result"
    }
   ],
   "source": [
    "selling_products[:10]"
   ]
  },
  {
   "cell_type": "markdown",
   "id": "2b533716",
   "metadata": {},
   "source": [
    " # Top 10 selling products with thier category ^"
   ]
  },
  {
   "cell_type": "code",
   "execution_count": 80,
   "id": "708a06ce",
   "metadata": {},
   "outputs": [],
   "source": [
    "profitable_products=df.groupby(['Category','Sub Category']).sum()['Profit'].reset_index()"
   ]
  },
  {
   "cell_type": "code",
   "execution_count": 86,
   "id": "a2e180e0",
   "metadata": {},
   "outputs": [],
   "source": [
    "profitable_products=profitable_products.sort_values('Profit')"
   ]
  },
  {
   "cell_type": "code",
   "execution_count": 87,
   "id": "8a21c101",
   "metadata": {},
   "outputs": [
    {
     "data": {
      "text/html": [
       "<div>\n",
       "<style scoped>\n",
       "    .dataframe tbody tr th:only-of-type {\n",
       "        vertical-align: middle;\n",
       "    }\n",
       "\n",
       "    .dataframe tbody tr th {\n",
       "        vertical-align: top;\n",
       "    }\n",
       "\n",
       "    .dataframe thead th {\n",
       "        text-align: right;\n",
       "    }\n",
       "</style>\n",
       "<table border=\"1\" class=\"dataframe\">\n",
       "  <thead>\n",
       "    <tr style=\"text-align: right;\">\n",
       "      <th></th>\n",
       "      <th>Category</th>\n",
       "      <th>Sub Category</th>\n",
       "      <th>Profit</th>\n",
       "    </tr>\n",
       "  </thead>\n",
       "  <tbody>\n",
       "    <tr>\n",
       "      <th>5</th>\n",
       "      <td>Eggs, Meat &amp; Fish</td>\n",
       "      <td>Chicken</td>\n",
       "      <td>124049.89</td>\n",
       "    </tr>\n",
       "    <tr>\n",
       "      <th>12</th>\n",
       "      <td>Food Grains</td>\n",
       "      <td>Rice</td>\n",
       "      <td>126932.36</td>\n",
       "    </tr>\n",
       "    <tr>\n",
       "      <th>9</th>\n",
       "      <td>Food Grains</td>\n",
       "      <td>Atta &amp; Flour</td>\n",
       "      <td>127861.10</td>\n",
       "    </tr>\n",
       "    <tr>\n",
       "      <th>10</th>\n",
       "      <td>Food Grains</td>\n",
       "      <td>Dals &amp; Pulses</td>\n",
       "      <td>130232.29</td>\n",
       "    </tr>\n",
       "    <tr>\n",
       "      <th>15</th>\n",
       "      <td>Fruits &amp; Veggies</td>\n",
       "      <td>Organic Fruits</td>\n",
       "      <td>130862.33</td>\n",
       "    </tr>\n",
       "    <tr>\n",
       "      <th>14</th>\n",
       "      <td>Fruits &amp; Veggies</td>\n",
       "      <td>Fresh Vegetables</td>\n",
       "      <td>131273.33</td>\n",
       "    </tr>\n",
       "    <tr>\n",
       "      <th>16</th>\n",
       "      <td>Fruits &amp; Veggies</td>\n",
       "      <td>Organic Vegetables</td>\n",
       "      <td>133596.37</td>\n",
       "    </tr>\n",
       "    <tr>\n",
       "      <th>13</th>\n",
       "      <td>Fruits &amp; Veggies</td>\n",
       "      <td>Fresh Fruits</td>\n",
       "      <td>134668.35</td>\n",
       "    </tr>\n",
       "    <tr>\n",
       "      <th>11</th>\n",
       "      <td>Food Grains</td>\n",
       "      <td>Organic Staples</td>\n",
       "      <td>144136.89</td>\n",
       "    </tr>\n",
       "    <tr>\n",
       "      <th>6</th>\n",
       "      <td>Eggs, Meat &amp; Fish</td>\n",
       "      <td>Eggs</td>\n",
       "      <td>144669.92</td>\n",
       "    </tr>\n",
       "  </tbody>\n",
       "</table>\n",
       "</div>"
      ],
      "text/plain": [
       "             Category        Sub Category     Profit\n",
       "5   Eggs, Meat & Fish             Chicken  124049.89\n",
       "12        Food Grains                Rice  126932.36\n",
       "9         Food Grains        Atta & Flour  127861.10\n",
       "10        Food Grains       Dals & Pulses  130232.29\n",
       "15   Fruits & Veggies      Organic Fruits  130862.33\n",
       "14   Fruits & Veggies    Fresh Vegetables  131273.33\n",
       "16   Fruits & Veggies  Organic Vegetables  133596.37\n",
       "13   Fruits & Veggies        Fresh Fruits  134668.35\n",
       "11        Food Grains     Organic Staples  144136.89\n",
       "6   Eggs, Meat & Fish                Eggs  144669.92"
      ]
     },
     "execution_count": 87,
     "metadata": {},
     "output_type": "execute_result"
    }
   ],
   "source": [
    "profitable_products[:10]"
   ]
  },
  {
   "cell_type": "markdown",
   "id": "bbe2c595",
   "metadata": {},
   "source": [
    "# Top 10 profitable Products with thier category ^"
   ]
  },
  {
   "cell_type": "code",
   "execution_count": 93,
   "id": "427fefe5",
   "metadata": {},
   "outputs": [],
   "source": [
    "category=df.groupby(['Category']).sum()['Profit'].reset_index()"
   ]
  },
  {
   "cell_type": "code",
   "execution_count": 96,
   "id": "ecce1688",
   "metadata": {},
   "outputs": [
    {
     "data": {
      "text/plain": [
       "<AxesSubplot:xlabel='Category', ylabel='Profit'>"
      ]
     },
     "execution_count": 96,
     "metadata": {},
     "output_type": "execute_result"
    },
    {
     "data": {
      "image/png": "[encoded data removed]",
      "text/plain": [
       "<Figure size 864x288 with 1 Axes>"
      ]
     },
     "metadata": {
      "needs_background": "light"
     },
     "output_type": "display_data"
    }
   ],
   "source": [
    "plt.figure(figsize=[12,4])\n",
    "sns.barplot(data=category,x='Category',y='Profit')"
   ]
  },
  {
   "cell_type": "code",
   "execution_count": 144,
   "id": "d0b990e8",
   "metadata": {},
   "outputs": [
    {
     "data": {
      "image/png": "[encoded data removed]",
      "text/plain": [
       "<Figure size 1152x360 with 1 Axes>"
      ]
     },
     "metadata": {
      "needs_background": "light"
     },
     "output_type": "display_data"
    }
   ],
   "source": [
    "s_Category=df.groupby('Sub Category').sum()['Profit'].reset_index()\n",
    "plt.figure(figsize=(16,5))\n",
    "sns.barplot(data=s_Category,x='Sub Category',y='Profit')\n",
    "plt.xticks(rotation=90)\n",
    "plt.show()"
   ]
  },
  {
   "cell_type": "code",
   "execution_count": 101,
   "id": "8f3154ed",
   "metadata": {},
   "outputs": [
    {
     "data": {
      "text/plain": [
       "Sales       1.000000\n",
       "Discount   -0.005512\n",
       "Profit      0.605349\n",
       "month      -0.009518\n",
       "year        0.007542\n",
       "Name: Sales, dtype: float64"
      ]
     },
     "execution_count": 101,
     "metadata": {},
     "output_type": "execute_result"
    }
   ],
   "source": [
    "df.corr()['Sales']"
   ]
  },
  {
   "cell_type": "markdown",
   "id": "59349b9a",
   "metadata": {},
   "source": [
    "# Correlation between sales and profit are more ^"
   ]
  },
  {
   "cell_type": "code",
   "execution_count": 138,
   "id": "bb3e650d",
   "metadata": {},
   "outputs": [
    {
     "data": {
      "image/png": "[encoded data removed]",
      "text/plain": [
       "<Figure size 432x288 with 1 Axes>"
      ]
     },
     "metadata": {
      "needs_background": "light"
     },
     "output_type": "display_data"
    }
   ],
   "source": [
    "region=df.groupby('Region').sum().reset_index().loc[:,['Region','Sales','Profit']].sort_values('Profit',ascending=False)\n",
    "sns.barplot(data=region,x='Region',y='Profit')\n",
    "plt.show()"
   ]
  },
  {
   "cell_type": "markdown",
   "id": "7fb389b3",
   "metadata": {},
   "source": [
    "# Region wise Report ^"
   ]
  },
  {
   "cell_type": "code",
   "execution_count": 135,
   "id": "4e765f2a",
   "metadata": {},
   "outputs": [],
   "source": [
    "city=df.groupby(['City']).sum().reset_index()\n"
   ]
  },
  {
   "cell_type": "code",
   "execution_count": 134,
   "id": "6971b700",
   "metadata": {},
   "outputs": [
    {
     "data": {
      "image/png": "[encoded data removed]",
      "text/plain": [
       "<Figure size 1296x360 with 1 Axes>"
      ]
     },
     "metadata": {
      "needs_background": "light"
     },
     "output_type": "display_data"
    }
   ],
   "source": [
    "plt.figure(figsize=(18,5))\n",
    "sns.barplot(data=city,x='City',y='Profit')\n",
    "plt.xticks(rotation=90)\n",
    "plt.show()"
   ]
  },
  {
   "cell_type": "markdown",
   "id": "227146aa",
   "metadata": {},
   "source": [
    "   # City wise  Report ^"
   ]
  },
  {
   "cell_type": "code",
   "execution_count": null,
   "id": "57d133a1",
   "metadata": {},
   "outputs": [],
   "source": []
  }
 ],
 "metadata": {
  "kernelspec": {
   "display_name": "Python 3 (ipykernel)",
   "language": "python",
   "name": "python3"
  },
  "language_info": {
   "codemirror_mode": {
    "name": "ipython",
    "version": 3
   },
   "file_extension": ".py",
   "mimetype": "text/x-python",
   "name": "python",
   "nbconvert_exporter": "python",
   "pygments_lexer": "ipython3",
   "version": "3.9.12"
  }
 },
 "nbformat": 4,
 "nbformat_minor": 5
}
